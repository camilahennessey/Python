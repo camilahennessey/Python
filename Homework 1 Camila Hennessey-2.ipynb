{
 "cells": [
  {
   "cell_type": "markdown",
   "id": "1243a6dc-be21-4b28-8c3f-739a31a5b38b",
   "metadata": {},
   "source": [
    "# Homework 1- Camila Hennessey"
   ]
  },
  {
   "cell_type": "code",
   "execution_count": 224,
   "id": "73a39d18-89d0-4eb8-a323-d3687029c211",
   "metadata": {},
   "outputs": [],
   "source": [
    "# importing the libraries needed\n",
    "import pandas as pd\n",
    "import numpy as np\n",
    "import datetime as dt\n",
    "import matplotlib.pyplot as plt\n",
    "from pathlib import Path\n",
    "import sqlite3\n",
    "import seaborn as sns\n",
    "import numpy as np\n",
    "import os"
   ]
  },
  {
   "cell_type": "markdown",
   "id": "1e42cd21-810b-4946-bbe6-0d6a3f48fac6",
   "metadata": {},
   "source": [
    "### 1.0\n",
    "\n",
    "Create a Series with the temperature values for the last 14 days in Boston. Use the pandas 'date_range' function to create the index."
   ]
  },
  {
   "cell_type": "code",
   "execution_count": 225,
   "id": "fec47130-327f-49e6-80c7-f3223066c7d0",
   "metadata": {},
   "outputs": [
    {
     "data": {
      "text/plain": [
       "2024-01-13    45\n",
       "2024-01-14    47\n",
       "2024-01-15    61\n",
       "2024-01-16    41\n",
       "2024-01-17    32\n",
       "2024-01-18    36\n",
       "2024-01-19    27\n",
       "2024-01-20    29\n",
       "2024-01-21    29\n",
       "2024-01-22    20\n",
       "2024-01-23    28\n",
       "2024-01-24    38\n",
       "2024-01-25    40\n",
       "2024-01-26    34\n",
       "Freq: D, dtype: int64"
      ]
     },
     "execution_count": 225,
     "metadata": {},
     "output_type": "execute_result"
    }
   ],
   "source": [
    "#The series was created using a range that considered the 14 days\n",
    "temperature_Boston_dates = pd.date_range(end=pd.Timestamp.today(), periods=14, normalize=True)\n",
    "temperature_values = [45,47,61,41,32,36,27,29,29,20,28,38,40,34]\n",
    "temperature_Boston = pd.Series(temperature_values, index=temperature_Boston_dates)\n",
    "temperature_Boston"
   ]
  },
  {
   "cell_type": "markdown",
   "id": "2a03c6de-9e53-46e1-993d-3992e32eac94",
   "metadata": {},
   "source": [
    "### 1.1\n",
    "\n",
    "Filter out the values below the mean (of the Series created in 1.0)"
   ]
  },
  {
   "cell_type": "code",
   "execution_count": 226,
   "id": "03ec6097-fa42-459d-8076-6287d80ba83a",
   "metadata": {},
   "outputs": [
    {
     "data": {
      "text/plain": [
       "2024-01-17    32\n",
       "2024-01-18    36\n",
       "2024-01-19    27\n",
       "2024-01-20    29\n",
       "2024-01-21    29\n",
       "2024-01-22    20\n",
       "2024-01-23    28\n",
       "2024-01-26    34\n",
       "dtype: int64"
      ]
     },
     "execution_count": 226,
     "metadata": {},
     "output_type": "execute_result"
    }
   ],
   "source": [
    "#I called the previous series to find the mean\n",
    "mean_temperature = temperature_Boston.mean()\n",
    "temperatures_below_mean = temperature_Boston[temperature_Boston < mean_temperature]\n",
    "temperatures_below_mean"
   ]
  },
  {
   "cell_type": "markdown",
   "id": "3dec0007-6292-4acc-871a-274eefa117c6",
   "metadata": {},
   "source": [
    "### 1.2\n",
    "\n",
    "Create a Series with the temperature values for every other day within the last 20 days in San Francisco."
   ]
  },
  {
   "cell_type": "code",
   "execution_count": 227,
   "id": "5a705b01-3b30-458d-8ecf-60f0ab58da3d",
   "metadata": {},
   "outputs": [
    {
     "data": {
      "text/plain": [
       "2023-12-30    59\n",
       "2024-01-02    57\n",
       "2024-01-05    61\n",
       "2024-01-08    59\n",
       "2024-01-11    57\n",
       "2024-01-14    59\n",
       "2024-01-17    63\n",
       "2024-01-20    61\n",
       "2024-01-23    59\n",
       "2024-01-26    54\n",
       "Freq: 3D, dtype: int64"
      ]
     },
     "execution_count": 227,
     "metadata": {},
     "output_type": "execute_result"
    }
   ],
   "source": [
    "#The first procedure of creating a series was repeated for San Francisco. Since the temperature values desired are for every other day, we chose every 3 days\n",
    "\n",
    "SF_temperature = pd.date_range(end=pd.Timestamp.today(), periods=10, freq='3D', normalize=True)\n",
    "SF_temperature_data = pd.Series([59, 57, 61, 59, 57, 59, 63, 61, 59, 54], index=SF_temperature)\n",
    "SF_temperature_data"
   ]
  },
  {
   "cell_type": "markdown",
   "id": "a9a73024-ef2d-4169-bf4d-ecc7c0b2b564",
   "metadata": {},
   "source": [
    "### 1.3\n",
    "\n",
    "Calculate the temperature difference between Boston (1.0) and San Francisco (1.2) per day. Programatically find the day with the highest difference. Fill in the blanks:"
   ]
  },
  {
   "cell_type": "code",
   "execution_count": 228,
   "id": "a4194446-f9e8-4d34-943a-49e4f4c5d434",
   "metadata": {},
   "outputs": [
    {
     "data": {
      "text/plain": [
       "Timestamp('2024-01-14 00:00:00')"
      ]
     },
     "execution_count": 228,
     "metadata": {},
     "output_type": "execute_result"
    }
   ],
   "source": [
    "#Since the data types are the same between the previous series created, we found the difference\n",
    "temperature_difference = temperature_Boston - SF_temperature_data\n",
    "day_with_highest_difference = temperature_difference.idxmax()\n",
    "day_with_highest_difference "
   ]
  },
  {
   "cell_type": "markdown",
   "id": "0e6f7208-9626-46b2-9817-805cfd3acd6c",
   "metadata": {},
   "source": [
    "### 1.4\n",
    "\n",
    "Find the maximum and minimum temperatures for Boston and San Francisco. Fill in the blanks:"
   ]
  },
  {
   "cell_type": "code",
   "execution_count": 229,
   "id": "455d56d7-304a-40a5-9c0d-204353a50ba9",
   "metadata": {},
   "outputs": [
    {
     "name": "stdout",
     "output_type": "stream",
     "text": [
      "Maximum temperature in Boston: 61\n",
      "Minimum temperature in Boston: 20\n",
      "Maximum temperature in San Francisco: 63\n",
      "Minimum temperature in San Francisco: 54\n"
     ]
    }
   ],
   "source": [
    "#I identified the max and min for each series depending on the city\n",
    "max_temperature_Boston = temperature_Boston.max()\n",
    "min_temperature_Boston = temperature_Boston.min()\n",
    "print(\"Maximum temperature in Boston:\", max_temperature_Boston)\n",
    "print(\"Minimum temperature in Boston:\", min_temperature_Boston)\n",
    "\n",
    "\n",
    "max_temperature_SF = SF_temperature_data.max()\n",
    "min_temperature_SF = SF_temperature_data.min()\n",
    "\n",
    "print(\"Maximum temperature in San Francisco:\", max_temperature_SF)\n",
    "print(\"Minimum temperature in San Francisco:\", min_temperature_SF)"
   ]
  },
  {
   "cell_type": "markdown",
   "id": "48483ae8-2a63-4402-8503-85c854890fa2",
   "metadata": {},
   "source": [
    "### 1.5\n",
    "\n",
    "Plot the temperatures in Boston and San Francisco in one chart."
   ]
  },
  {
   "cell_type": "code",
   "execution_count": 230,
   "id": "ca4c2fb6-2159-4f4b-9cf6-a926b5218642",
   "metadata": {},
   "outputs": [
    {
     "data": {
      "image/png": "[encoded data removed]",
      "text/plain": [
       "<Figure size 1000x600 with 1 Axes>"
      ]
     },
     "metadata": {},
     "output_type": "display_data"
    }
   ],
   "source": [
    "# Both temperatures were used for the plot to compared the data\n",
    "plt.figure(figsize=(10, 6))\n",
    "plt.plot(temperature_Boston, label='Boston')\n",
    "plt.plot(SF_temperature_data, label='San Francisco')\n",
    "plt.title('Temperature Comparison between Boston and San Francisco')\n",
    "plt.xlabel('Date')\n",
    "plt.ylabel('Temperature')\n",
    "plt.legend()\n",
    "plt.show()\n"
   ]
  },
  {
   "cell_type": "markdown",
   "id": "f9bd9525-fc8e-40dd-ad59-0b8927a2e97f",
   "metadata": {},
   "source": [
    "### 2.1\n",
    "\n",
    "Create a Dataframe with the names of your team members, their age, their favorite food, their favorite room temperature"
   ]
  },
  {
   "cell_type": "code",
   "execution_count": 231,
   "id": "f32ef89c-d661-4d80-888a-89653c1baaac",
   "metadata": {},
   "outputs": [
    {
     "name": "stdout",
     "output_type": "stream",
     "text": [
      "       Name  Age Favorite Food  Favorite Room Temperature\n",
      "0     Prame   28         Sushi                         20\n",
      "1    Lilian   31     Ice Cream                         23\n",
      "2  Yasuhito   36         Ramen                         20\n",
      "3     Felix   32          Fufu                         26\n",
      "4    Vidhii   25      Pancakes                         21\n"
     ]
    }
   ],
   "source": [
    "#To create this dataframe, I talked to my team members to know their preferences\n",
    "data = {\n",
    "    'Name': ['Prame', 'Lilian', 'Yasuhito', 'Felix', 'Vidhii'],\n",
    "    'Age': [28, 31, 36, 32, 25],\n",
    "    'Favorite Food': ['Sushi', 'Ice Cream', 'Ramen', 'Fufu', 'Pancakes'],\n",
    "    'Favorite Room Temperature': [20, 23, 20, 26 ,21]\n",
    "}\n",
    "\n",
    "team_df = pd.DataFrame(data)\n",
    "print(team_df)\n"
   ]
  },
  {
   "cell_type": "markdown",
   "id": "de01f81c-6a06-41b4-b118-6afa5ca5ef5f",
   "metadata": {},
   "source": [
    "### 2.2\n",
    "\n",
    "Filter the dataframe for only the two oldest team members"
   ]
  },
  {
   "cell_type": "code",
   "execution_count": 232,
   "id": "e567eb23-8650-41d7-8c55-a4c5c7938802",
   "metadata": {},
   "outputs": [
    {
     "data": {
      "text/html": [
       "<div>\n",
       "<style scoped>\n",
       "    .dataframe tbody tr th:only-of-type {\n",
       "        vertical-align: middle;\n",
       "    }\n",
       "\n",
       "    .dataframe tbody tr th {\n",
       "        vertical-align: top;\n",
       "    }\n",
       "\n",
       "    .dataframe thead th {\n",
       "        text-align: right;\n",
       "    }\n",
       "</style>\n",
       "<table border=\"1\" class=\"dataframe\">\n",
       "  <thead>\n",
       "    <tr style=\"text-align: right;\">\n",
       "      <th></th>\n",
       "      <th>Name</th>\n",
       "      <th>Age</th>\n",
       "      <th>Favorite Food</th>\n",
       "      <th>Favorite Room Temperature</th>\n",
       "    </tr>\n",
       "  </thead>\n",
       "  <tbody>\n",
       "    <tr>\n",
       "      <th>2</th>\n",
       "      <td>Yasuhito</td>\n",
       "      <td>36</td>\n",
       "      <td>Ramen</td>\n",
       "      <td>20</td>\n",
       "    </tr>\n",
       "    <tr>\n",
       "      <th>3</th>\n",
       "      <td>Felix</td>\n",
       "      <td>32</td>\n",
       "      <td>Fufu</td>\n",
       "      <td>26</td>\n",
       "    </tr>\n",
       "  </tbody>\n",
       "</table>\n",
       "</div>"
      ],
      "text/plain": [
       "       Name  Age Favorite Food  Favorite Room Temperature\n",
       "2  Yasuhito   36         Ramen                         20\n",
       "3     Felix   32          Fufu                         26"
      ]
     },
     "execution_count": 232,
     "metadata": {},
     "output_type": "execute_result"
    }
   ],
   "source": [
    "#To find the oldest members, their age was sorted in a descending way\n",
    "oldest_two = team_df.sort_values(by='Age', ascending=False).head(2)\n",
    "oldest_two"
   ]
  },
  {
   "cell_type": "markdown",
   "id": "049fc05e-7fc1-4eb3-8f24-d8f50e0155c2",
   "metadata": {},
   "source": [
    "### 2.3\n",
    "\n",
    "Which team member is closest in favorite temperature to the 3rd percentil? Output his or her data."
   ]
  },
  {
   "cell_type": "code",
   "execution_count": 233,
   "id": "01d28c6e-eac4-4507-87d4-08b532e1159b",
   "metadata": {},
   "outputs": [
    {
     "name": "stdout",
     "output_type": "stream",
     "text": [
      "Name                         Prame\n",
      "Age                             28\n",
      "Favorite Food                Sushi\n",
      "Favorite Room Temperature       20\n",
      "Temp Difference                0.0\n",
      "Name: 0, dtype: object\n"
     ]
    }
   ],
   "source": [
    "#To find the percentile first was necessary to identify it and then apply in a difference with the absolute number of the teams favorite room temperature. Then it loc was used.\n",
    "third_percentile = team_df['Favorite Room Temperature'].quantile(0.03)\n",
    "team_df['Temp Difference'] = abs(team_df['Favorite Room Temperature'] - third_percentile)\n",
    "closest_member = team_df.loc[team_df['Temp Difference'].idxmin()]\n",
    "print(closest_member)"
   ]
  },
  {
   "cell_type": "markdown",
   "id": "4cbd4488-3354-40b4-9347-dbd14bfe9f59",
   "metadata": {},
   "source": [
    "### 2.4\n",
    "\n",
    "Get the 2nd and 3rd team members' favorite foods"
   ]
  },
  {
   "cell_type": "code",
   "execution_count": 234,
   "id": "899859a8-4b30-4170-b3f4-4408486697c6",
   "metadata": {},
   "outputs": [
    {
     "name": "stdout",
     "output_type": "stream",
     "text": [
      "2nd Member's Favorite Food: Ice Cream\n",
      "3rd Member's Favorite Food: Ramen\n"
     ]
    }
   ],
   "source": [
    "#The previous procedure was repeated\n",
    "second_member_food = team_df.loc[1, 'Favorite Food']\n",
    "third_member_food = team_df.loc[2, 'Favorite Food']\n",
    "\n",
    "print(\"2nd Member's Favorite Food:\", second_member_food)\n",
    "print(\"3rd Member's Favorite Food:\", third_member_food)\n"
   ]
  },
  {
   "cell_type": "markdown",
   "id": "ee90784e-53b3-4eef-b186-146f0e2a2dee",
   "metadata": {},
   "source": [
    "### 2.5\n",
    "\n",
    "Add 2 degrees to the favorite room temperature of the oldest two team members"
   ]
  },
  {
   "cell_type": "code",
   "execution_count": 235,
   "id": "d4c90646-aa1e-4dcf-b251-2d46a681d445",
   "metadata": {},
   "outputs": [
    {
     "name": "stdout",
     "output_type": "stream",
     "text": [
      "       Name  Age Favorite Food  Favorite Room Temperature  Temp Difference\n",
      "2  Yasuhito   36         Ramen                         22              0.0\n",
      "3     Felix   32          Fufu                         28              6.0\n"
     ]
    }
   ],
   "source": [
    "#Based on the ages of the olded members, 2 degrees were added to their favorite temperature\n",
    "oldest_two_indices = team_df.sort_values(by='Age', ascending=False).head(2).index\n",
    "team_df.loc[oldest_two_indices, 'Favorite Room Temperature'] += 2\n",
    "print(team_df.loc[oldest_two_indices])"
   ]
  },
  {
   "cell_type": "markdown",
   "id": "3199d2ba",
   "metadata": {},
   "source": [
    "## 3.0\n",
    "\n",
    "Load the coaster_db.csv dataset"
   ]
  },
  {
   "cell_type": "code",
   "execution_count": 236,
   "id": "8040e506",
   "metadata": {},
   "outputs": [
    {
     "data": {
      "text/plain": [
       "PosixPath('/Users/camilahennessey/Computational Data Analytics')"
      ]
     },
     "execution_count": 236,
     "metadata": {},
     "output_type": "execute_result"
    }
   ],
   "source": [
    "#First the current working path was identified\n",
    "cwd = Path.cwd()\n",
    "cwd"
   ]
  },
  {
   "cell_type": "code",
   "execution_count": 237,
   "id": "2ccaed0e",
   "metadata": {},
   "outputs": [
    {
     "data": {
      "text/plain": [
       "PosixPath('data/coaster_db.csv')"
      ]
     },
     "execution_count": 237,
     "metadata": {},
     "output_type": "execute_result"
    }
   ],
   "source": [
    "#I created the directory path with a file name to create a complete file path, and then used Pandas to read the data from the CSV file located at that path and stores it in a DataFrame named df.\n",
    "path = Path(\"data\") / Path(\"coaster_db.csv\")\n",
    "df = pd.read_csv(path)\n",
    "path"
   ]
  },
  {
   "cell_type": "code",
   "execution_count": 238,
   "id": "164ba2b4",
   "metadata": {},
   "outputs": [
    {
     "data": {
      "text/plain": [
       "(1087, 56)"
      ]
     },
     "execution_count": 238,
     "metadata": {},
     "output_type": "execute_result"
    }
   ],
   "source": [
    "#I want to know the number of rows and columns\n",
    "df.shape"
   ]
  },
  {
   "cell_type": "code",
   "execution_count": 239,
   "id": "9dc373e5",
   "metadata": {},
   "outputs": [
    {
     "data": {
      "text/html": [
       "<div>\n",
       "<style scoped>\n",
       "    .dataframe tbody tr th:only-of-type {\n",
       "        vertical-align: middle;\n",
       "    }\n",
       "\n",
       "    .dataframe tbody tr th {\n",
       "        vertical-align: top;\n",
       "    }\n",
       "\n",
       "    .dataframe thead th {\n",
       "        text-align: right;\n",
       "    }\n",
       "</style>\n",
       "<table border=\"1\" class=\"dataframe\">\n",
       "  <thead>\n",
       "    <tr style=\"text-align: right;\">\n",
       "      <th></th>\n",
       "      <th>coaster_name</th>\n",
       "      <th>Length</th>\n",
       "      <th>Speed</th>\n",
       "      <th>Location</th>\n",
       "      <th>Status</th>\n",
       "      <th>Opening date</th>\n",
       "      <th>Type</th>\n",
       "      <th>Manufacturer</th>\n",
       "      <th>Height restriction</th>\n",
       "      <th>Model</th>\n",
       "      <th>...</th>\n",
       "      <th>speed1</th>\n",
       "      <th>speed2</th>\n",
       "      <th>speed1_value</th>\n",
       "      <th>speed1_unit</th>\n",
       "      <th>speed_mph</th>\n",
       "      <th>height_value</th>\n",
       "      <th>height_unit</th>\n",
       "      <th>height_ft</th>\n",
       "      <th>Inversions_clean</th>\n",
       "      <th>Gforce_clean</th>\n",
       "    </tr>\n",
       "  </thead>\n",
       "  <tbody>\n",
       "    <tr>\n",
       "      <th>0</th>\n",
       "      <td>Switchback Railway</td>\n",
       "      <td>600 ft (180 m)</td>\n",
       "      <td>6 mph (9.7 km/h)</td>\n",
       "      <td>Coney Island</td>\n",
       "      <td>Removed</td>\n",
       "      <td>June 16, 1884</td>\n",
       "      <td>Wood</td>\n",
       "      <td>LaMarcus Adna Thompson</td>\n",
       "      <td>NaN</td>\n",
       "      <td>Lift Packed</td>\n",
       "      <td>...</td>\n",
       "      <td>6 mph</td>\n",
       "      <td>9.7 km/h</td>\n",
       "      <td>6.0</td>\n",
       "      <td>mph</td>\n",
       "      <td>6.0</td>\n",
       "      <td>50.0</td>\n",
       "      <td>ft</td>\n",
       "      <td>NaN</td>\n",
       "      <td>0</td>\n",
       "      <td>2.9</td>\n",
       "    </tr>\n",
       "    <tr>\n",
       "      <th>1</th>\n",
       "      <td>Flip Flap Railway</td>\n",
       "      <td>NaN</td>\n",
       "      <td>NaN</td>\n",
       "      <td>Sea Lion Park</td>\n",
       "      <td>Removed</td>\n",
       "      <td>1895</td>\n",
       "      <td>Wood</td>\n",
       "      <td>Lina Beecher</td>\n",
       "      <td>NaN</td>\n",
       "      <td>NaN</td>\n",
       "      <td>...</td>\n",
       "      <td>NaN</td>\n",
       "      <td>NaN</td>\n",
       "      <td>NaN</td>\n",
       "      <td>NaN</td>\n",
       "      <td>NaN</td>\n",
       "      <td>NaN</td>\n",
       "      <td>NaN</td>\n",
       "      <td>NaN</td>\n",
       "      <td>1</td>\n",
       "      <td>12.0</td>\n",
       "    </tr>\n",
       "    <tr>\n",
       "      <th>2</th>\n",
       "      <td>Switchback Railway (Euclid Beach Park)</td>\n",
       "      <td>NaN</td>\n",
       "      <td>NaN</td>\n",
       "      <td>Cleveland, Ohio, United States</td>\n",
       "      <td>Closed</td>\n",
       "      <td>NaN</td>\n",
       "      <td>Other</td>\n",
       "      <td>NaN</td>\n",
       "      <td>NaN</td>\n",
       "      <td>NaN</td>\n",
       "      <td>...</td>\n",
       "      <td>NaN</td>\n",
       "      <td>NaN</td>\n",
       "      <td>NaN</td>\n",
       "      <td>NaN</td>\n",
       "      <td>NaN</td>\n",
       "      <td>NaN</td>\n",
       "      <td>NaN</td>\n",
       "      <td>NaN</td>\n",
       "      <td>0</td>\n",
       "      <td>NaN</td>\n",
       "    </tr>\n",
       "    <tr>\n",
       "      <th>3</th>\n",
       "      <td>Loop the Loop (Coney Island)</td>\n",
       "      <td>NaN</td>\n",
       "      <td>NaN</td>\n",
       "      <td>Other</td>\n",
       "      <td>Removed</td>\n",
       "      <td>1901</td>\n",
       "      <td>Steel</td>\n",
       "      <td>Edwin Prescott</td>\n",
       "      <td>NaN</td>\n",
       "      <td>NaN</td>\n",
       "      <td>...</td>\n",
       "      <td>NaN</td>\n",
       "      <td>NaN</td>\n",
       "      <td>NaN</td>\n",
       "      <td>NaN</td>\n",
       "      <td>NaN</td>\n",
       "      <td>NaN</td>\n",
       "      <td>NaN</td>\n",
       "      <td>NaN</td>\n",
       "      <td>1</td>\n",
       "      <td>NaN</td>\n",
       "    </tr>\n",
       "    <tr>\n",
       "      <th>4</th>\n",
       "      <td>Loop the Loop (Young's Pier)</td>\n",
       "      <td>NaN</td>\n",
       "      <td>NaN</td>\n",
       "      <td>Other</td>\n",
       "      <td>Removed</td>\n",
       "      <td>1901</td>\n",
       "      <td>Steel</td>\n",
       "      <td>Edwin Prescott</td>\n",
       "      <td>NaN</td>\n",
       "      <td>NaN</td>\n",
       "      <td>...</td>\n",
       "      <td>NaN</td>\n",
       "      <td>NaN</td>\n",
       "      <td>NaN</td>\n",
       "      <td>NaN</td>\n",
       "      <td>NaN</td>\n",
       "      <td>NaN</td>\n",
       "      <td>NaN</td>\n",
       "      <td>NaN</td>\n",
       "      <td>1</td>\n",
       "      <td>NaN</td>\n",
       "    </tr>\n",
       "    <tr>\n",
       "      <th>5</th>\n",
       "      <td>Cannon Coaster</td>\n",
       "      <td>NaN</td>\n",
       "      <td>NaN</td>\n",
       "      <td>Coney Island</td>\n",
       "      <td>Removed</td>\n",
       "      <td>1902</td>\n",
       "      <td>Wood</td>\n",
       "      <td>George Francis Meyer</td>\n",
       "      <td>NaN</td>\n",
       "      <td>NaN</td>\n",
       "      <td>...</td>\n",
       "      <td>NaN</td>\n",
       "      <td>NaN</td>\n",
       "      <td>NaN</td>\n",
       "      <td>NaN</td>\n",
       "      <td>NaN</td>\n",
       "      <td>40.0</td>\n",
       "      <td>ft</td>\n",
       "      <td>NaN</td>\n",
       "      <td>0</td>\n",
       "      <td>NaN</td>\n",
       "    </tr>\n",
       "    <tr>\n",
       "      <th>6</th>\n",
       "      <td>Leap-The-Dips</td>\n",
       "      <td>1,452 ft (443 m)</td>\n",
       "      <td>10 mph (16 km/h)</td>\n",
       "      <td>Lakemont Park</td>\n",
       "      <td>Operating</td>\n",
       "      <td>1902</td>\n",
       "      <td>Wood – Side friction</td>\n",
       "      <td>Federal Construction Company</td>\n",
       "      <td>NaN</td>\n",
       "      <td>NaN</td>\n",
       "      <td>...</td>\n",
       "      <td>10 mph</td>\n",
       "      <td>16 km/h</td>\n",
       "      <td>10.0</td>\n",
       "      <td>mph</td>\n",
       "      <td>10.0</td>\n",
       "      <td>41.0</td>\n",
       "      <td>ft</td>\n",
       "      <td>NaN</td>\n",
       "      <td>0</td>\n",
       "      <td>NaN</td>\n",
       "    </tr>\n",
       "    <tr>\n",
       "      <th>7</th>\n",
       "      <td>Figure Eight (Euclid Beach Park)</td>\n",
       "      <td>NaN</td>\n",
       "      <td>NaN</td>\n",
       "      <td>Cleveland, Ohio, United States</td>\n",
       "      <td>Closed</td>\n",
       "      <td>NaN</td>\n",
       "      <td>Other</td>\n",
       "      <td>NaN</td>\n",
       "      <td>NaN</td>\n",
       "      <td>NaN</td>\n",
       "      <td>...</td>\n",
       "      <td>NaN</td>\n",
       "      <td>NaN</td>\n",
       "      <td>NaN</td>\n",
       "      <td>NaN</td>\n",
       "      <td>NaN</td>\n",
       "      <td>NaN</td>\n",
       "      <td>NaN</td>\n",
       "      <td>NaN</td>\n",
       "      <td>0</td>\n",
       "      <td>NaN</td>\n",
       "    </tr>\n",
       "    <tr>\n",
       "      <th>8</th>\n",
       "      <td>Drop the Dip</td>\n",
       "      <td>NaN</td>\n",
       "      <td>NaN</td>\n",
       "      <td>Coney Island</td>\n",
       "      <td>Removed</td>\n",
       "      <td>June 6, 1907</td>\n",
       "      <td>Other</td>\n",
       "      <td>Arthur Jarvis</td>\n",
       "      <td>NaN</td>\n",
       "      <td>NaN</td>\n",
       "      <td>...</td>\n",
       "      <td>NaN</td>\n",
       "      <td>NaN</td>\n",
       "      <td>NaN</td>\n",
       "      <td>NaN</td>\n",
       "      <td>NaN</td>\n",
       "      <td>60.0</td>\n",
       "      <td>ft</td>\n",
       "      <td>NaN</td>\n",
       "      <td>0</td>\n",
       "      <td>NaN</td>\n",
       "    </tr>\n",
       "    <tr>\n",
       "      <th>9</th>\n",
       "      <td>Scenic Railway (Euclid Beach Park)</td>\n",
       "      <td>NaN</td>\n",
       "      <td>NaN</td>\n",
       "      <td>Cleveland, Ohio, United States</td>\n",
       "      <td>Closed</td>\n",
       "      <td>NaN</td>\n",
       "      <td>Other</td>\n",
       "      <td>NaN</td>\n",
       "      <td>NaN</td>\n",
       "      <td>NaN</td>\n",
       "      <td>...</td>\n",
       "      <td>NaN</td>\n",
       "      <td>NaN</td>\n",
       "      <td>NaN</td>\n",
       "      <td>NaN</td>\n",
       "      <td>NaN</td>\n",
       "      <td>NaN</td>\n",
       "      <td>NaN</td>\n",
       "      <td>NaN</td>\n",
       "      <td>0</td>\n",
       "      <td>NaN</td>\n",
       "    </tr>\n",
       "  </tbody>\n",
       "</table>\n",
       "<p>10 rows × 56 columns</p>\n",
       "</div>"
      ],
      "text/plain": [
       "                             coaster_name            Length             Speed  \\\n",
       "0                      Switchback Railway    600 ft (180 m)  6 mph (9.7 km/h)   \n",
       "1                       Flip Flap Railway               NaN               NaN   \n",
       "2  Switchback Railway (Euclid Beach Park)               NaN               NaN   \n",
       "3            Loop the Loop (Coney Island)               NaN               NaN   \n",
       "4            Loop the Loop (Young's Pier)               NaN               NaN   \n",
       "5                          Cannon Coaster               NaN               NaN   \n",
       "6                           Leap-The-Dips  1,452 ft (443 m)  10 mph (16 km/h)   \n",
       "7        Figure Eight (Euclid Beach Park)               NaN               NaN   \n",
       "8                            Drop the Dip               NaN               NaN   \n",
       "9      Scenic Railway (Euclid Beach Park)               NaN               NaN   \n",
       "\n",
       "                         Location     Status   Opening date  \\\n",
       "0                    Coney Island    Removed  June 16, 1884   \n",
       "1                   Sea Lion Park    Removed           1895   \n",
       "2  Cleveland, Ohio, United States     Closed            NaN   \n",
       "3                           Other    Removed           1901   \n",
       "4                           Other    Removed           1901   \n",
       "5                    Coney Island    Removed           1902   \n",
       "6                   Lakemont Park  Operating           1902   \n",
       "7  Cleveland, Ohio, United States     Closed            NaN   \n",
       "8                    Coney Island    Removed   June 6, 1907   \n",
       "9  Cleveland, Ohio, United States     Closed            NaN   \n",
       "\n",
       "                   Type                  Manufacturer Height restriction  \\\n",
       "0                  Wood        LaMarcus Adna Thompson                NaN   \n",
       "1                  Wood                  Lina Beecher                NaN   \n",
       "2                 Other                           NaN                NaN   \n",
       "3                 Steel                Edwin Prescott                NaN   \n",
       "4                 Steel                Edwin Prescott                NaN   \n",
       "5                  Wood          George Francis Meyer                NaN   \n",
       "6  Wood – Side friction  Federal Construction Company                NaN   \n",
       "7                 Other                           NaN                NaN   \n",
       "8                 Other                 Arthur Jarvis                NaN   \n",
       "9                 Other                           NaN                NaN   \n",
       "\n",
       "         Model  ...   speed1    speed2 speed1_value speed1_unit speed_mph  \\\n",
       "0  Lift Packed  ...   6 mph   9.7 km/h          6.0         mph       6.0   \n",
       "1          NaN  ...      NaN       NaN          NaN         NaN       NaN   \n",
       "2          NaN  ...      NaN       NaN          NaN         NaN       NaN   \n",
       "3          NaN  ...      NaN       NaN          NaN         NaN       NaN   \n",
       "4          NaN  ...      NaN       NaN          NaN         NaN       NaN   \n",
       "5          NaN  ...      NaN       NaN          NaN         NaN       NaN   \n",
       "6          NaN  ...  10 mph    16 km/h         10.0         mph      10.0   \n",
       "7          NaN  ...      NaN       NaN          NaN         NaN       NaN   \n",
       "8          NaN  ...      NaN       NaN          NaN         NaN       NaN   \n",
       "9          NaN  ...      NaN       NaN          NaN         NaN       NaN   \n",
       "\n",
       "  height_value height_unit height_ft Inversions_clean Gforce_clean  \n",
       "0         50.0          ft       NaN                0          2.9  \n",
       "1          NaN         NaN       NaN                1         12.0  \n",
       "2          NaN         NaN       NaN                0          NaN  \n",
       "3          NaN         NaN       NaN                1          NaN  \n",
       "4          NaN         NaN       NaN                1          NaN  \n",
       "5         40.0          ft       NaN                0          NaN  \n",
       "6         41.0          ft       NaN                0          NaN  \n",
       "7          NaN         NaN       NaN                0          NaN  \n",
       "8         60.0          ft       NaN                0          NaN  \n",
       "9          NaN         NaN       NaN                0          NaN  \n",
       "\n",
       "[10 rows x 56 columns]"
      ]
     },
     "execution_count": 239,
     "metadata": {},
     "output_type": "execute_result"
    }
   ],
   "source": [
    "#I want to see the first 10 rows\n",
    "df.head(10)"
   ]
  },
  {
   "cell_type": "code",
   "execution_count": 240,
   "id": "ab1775ea",
   "metadata": {},
   "outputs": [
    {
     "data": {
      "text/plain": [
       "Index(['coaster_name', 'Length', 'Speed', 'Location', 'Status', 'Opening date',\n",
       "       'Type', 'Manufacturer', 'Height restriction', 'Model', 'Height',\n",
       "       'Inversions', 'Lift/launch system', 'Cost', 'Trains', 'Park section',\n",
       "       'Duration', 'Capacity', 'G-force', 'Designer', 'Max vertical angle',\n",
       "       'Drop', 'Soft opening date', 'Fast Lane available', 'Replaced',\n",
       "       'Track layout', 'Fastrack available', 'Soft opening date.1',\n",
       "       'Closing date', 'Opened', 'Replaced by', 'Website',\n",
       "       'Flash Pass Available', 'Must transfer from wheelchair', 'Theme',\n",
       "       'Single rider line available', 'Restraint Style',\n",
       "       'Flash Pass available', 'Acceleration', 'Restraints', 'Name',\n",
       "       'year_introduced', 'latitude', 'longitude', 'Type_Main',\n",
       "       'opening_date_clean', 'speed1', 'speed2', 'speed1_value', 'speed1_unit',\n",
       "       'speed_mph', 'height_value', 'height_unit', 'height_ft',\n",
       "       'Inversions_clean', 'Gforce_clean'],\n",
       "      dtype='object')"
      ]
     },
     "execution_count": 240,
     "metadata": {},
     "output_type": "execute_result"
    }
   ],
   "source": [
    "#I want to see which are the names of the columns\n",
    "df.columns"
   ]
  },
  {
   "cell_type": "markdown",
   "id": "e5aab7ab",
   "metadata": {},
   "source": [
    "## 3.1\n",
    "Store the coaster dataset in a new database. Ensure to handle duplicate column names."
   ]
  },
  {
   "cell_type": "code",
   "execution_count": 241,
   "id": "40ce0dd1",
   "metadata": {},
   "outputs": [
    {
     "name": "stdout",
     "output_type": "stream",
     "text": [
      "Duplicated coasters:\n",
      "                            coaster_name                Length  \\\n",
      "14                           Derby Racer                   NaN   \n",
      "16                         Zippin Pippin      2,865 ft (873 m)   \n",
      "39                 Crystal Beach Cyclone      2,953 ft (900 m)   \n",
      "43                 Crystal Beach Cyclone      2,953 ft (900 m)   \n",
      "59           Blue Streak (Conneaut Lake)      2,900 ft (880 m)   \n",
      "...                                  ...                   ...   \n",
      "1063                  Lil' Devil Coaster     262.5 ft (80.0 m)   \n",
      "1064  Little Dipper (Conneaut Lake Park)                   NaN   \n",
      "1080                          Iron Gwazi    4,075 ft (1,242 m)   \n",
      "1082             American Dreier Looping    3,444 ft (1,050 m)   \n",
      "1084           Tron Lightcycle Power Run  3,169.3 ft (966.0 m)   \n",
      "\n",
      "                        Speed                   Location              Status  \\\n",
      "14                        NaN               Revere Beach             Removed   \n",
      "16           40 mph (64 km/h)                      Other                 NaN   \n",
      "39           60 mph (97 km/h)         Crystal Beach Park             Removed   \n",
      "43           60 mph (97 km/h)         Crystal Beach Park             Removed   \n",
      "59           50 mph (80 km/h)         Conneaut Lake Park              Closed   \n",
      "...                       ...                        ...                 ...   \n",
      "1063                      NaN  Six Flags Great Adventure           Operating   \n",
      "1064                      NaN         Conneaut Lake Park           Operating   \n",
      "1080        76 mph (122 km/h)    Busch Gardens Tampa Bay  Under construction   \n",
      "1082         53 mph (85 km/h)                      Other                 NaN   \n",
      "1084  59.3[1] mph (95.4 km/h)                      Other                 NaN   \n",
      "\n",
      "                                           Opening date              Type  \\\n",
      "14                                                 1911     Wood – Racing   \n",
      "16                                                  NaN              Wood   \n",
      "39                                                 1926              Wood   \n",
      "43                                                 1926              Wood   \n",
      "59                                         May 23, 1938              Wood   \n",
      "...                                                 ...               ...   \n",
      "1063  1999 as Road Runner Railway; 2021 as Lil' Devi...    Steel – Kiddie   \n",
      "1064                                              1950s             Steel   \n",
      "1080                                                NaN    Steel – Wooden   \n",
      "1082                                                NaN             Steel   \n",
      "1084                                      June 16, 2016  Steel – Launched   \n",
      "\n",
      "                     Manufacturer Height restriction  \\\n",
      "14                 Fred W. Pearce                NaN   \n",
      "16              The Gravity Group     48 in (122 cm)   \n",
      "39             Traver Engineering                NaN   \n",
      "43             Traver Engineering                NaN   \n",
      "59                            NaN                NaN   \n",
      "...                           ...                ...   \n",
      "1063                     Zamperla                NaN   \n",
      "1064      Allan Herschell Company                NaN   \n",
      "1080  Rocky Mountain Construction  48[1] in (122 cm)   \n",
      "1082            Anton Schwarzkopf     55 in (140 cm)   \n",
      "1084                       Vekoma   4[2] ft (122 cm)   \n",
      "\n",
      "                             Model  ...     speed1     speed2 speed1_value  \\\n",
      "14                             NaN  ...        NaN        NaN          NaN   \n",
      "16                  Wooden Coaster  ...    40 mph     64 km/h         40.0   \n",
      "39                             NaN  ...    60 mph     97 km/h         60.0   \n",
      "43                             NaN  ...    60 mph     97 km/h         60.0   \n",
      "59     Out and Back roller coaster  ...    50 mph     80 km/h         50.0   \n",
      "...                            ...  ...        ...        ...          ...   \n",
      "1063  Family Gravity Coaster 80STD  ...        NaN        NaN          NaN   \n",
      "1064                 Little Dipper  ...        NaN        NaN          NaN   \n",
      "1080                   I-Box Track  ...    76 mph    122 km/h         76.0   \n",
      "1082                           NaN  ...    53 mph     85 km/h         53.0   \n",
      "1084      Motorbike roller coaster  ...  59.3 mph   95.4 km/h         59.3   \n",
      "\n",
      "     speed1_unit speed_mph height_value height_unit height_ft  \\\n",
      "14           NaN       NaN          NaN         NaN       NaN   \n",
      "16           mph      40.0         70.0          ft       NaN   \n",
      "39           mph      60.0         96.0          ft       NaN   \n",
      "43           mph      60.0         96.0          ft       NaN   \n",
      "59           mph      50.0         77.0          ft       NaN   \n",
      "...          ...       ...          ...         ...       ...   \n",
      "1063         NaN       NaN         13.0          ft       NaN   \n",
      "1064         NaN       NaN          NaN         NaN       NaN   \n",
      "1080         mph      76.0        206.0          ft       NaN   \n",
      "1082         mph      53.0        111.0          ft       NaN   \n",
      "1084         mph      59.3         78.1          ft       NaN   \n",
      "\n",
      "     Inversions_clean Gforce_clean  \n",
      "14                  0          NaN  \n",
      "16                  0          NaN  \n",
      "39                  0          4.0  \n",
      "43                  0          4.0  \n",
      "59                  0          NaN  \n",
      "...               ...          ...  \n",
      "1063                0          NaN  \n",
      "1064                0          NaN  \n",
      "1080                2          NaN  \n",
      "1082                3          4.7  \n",
      "1084                0          4.0  \n",
      "\n",
      "[173 rows x 56 columns]\n",
      "DataFrame after removing duplicates:\n",
      "                                coaster_name                  Length  \\\n",
      "0                         Switchback Railway          600 ft (180 m)   \n",
      "1                          Flip Flap Railway                     NaN   \n",
      "2     Switchback Railway (Euclid Beach Park)                     NaN   \n",
      "3               Loop the Loop (Coney Island)                     NaN   \n",
      "4               Loop the Loop (Young's Pier)                     NaN   \n",
      "...                                      ...                     ...   \n",
      "1079            Ice Breaker (roller coaster)        1,900 ft (580 m)   \n",
      "1081                   Leviathan (Sea World)  1,000.0 m (3,280.8 ft)   \n",
      "1083               Pantheon (roller coaster)      3,328 ft (1,014 m)   \n",
      "1085                                 Tumbili          770 ft (230 m)   \n",
      "1086          Wonder Woman Flight of Courage      3,300 ft (1,000 m)   \n",
      "\n",
      "                     Speed                        Location  \\\n",
      "0         6 mph (9.7 km/h)                    Coney Island   \n",
      "1                      NaN                   Sea Lion Park   \n",
      "2                      NaN  Cleveland, Ohio, United States   \n",
      "3                      NaN                           Other   \n",
      "4                      NaN                           Other   \n",
      "...                    ...                             ...   \n",
      "1079      52 mph (84 km/h)                SeaWorld Orlando   \n",
      "1081  80.0 km/h (49.7 mph)                       Sea World   \n",
      "1083     73 mph (117 km/h)      Busch Gardens Williamsburg   \n",
      "1085      34 mph (55 km/h)                  Kings Dominion   \n",
      "1086      58 mph (93 km/h)        Six Flags Magic Mountain   \n",
      "\n",
      "                  Status   Opening date                                  Type  \\\n",
      "0                Removed  June 16, 1884                                  Wood   \n",
      "1                Removed           1895                                  Wood   \n",
      "2                 Closed            NaN                                 Other   \n",
      "3                Removed           1901                                 Steel   \n",
      "4                Removed           1901                                 Steel   \n",
      "...                  ...            ...                                   ...   \n",
      "1079  Under construction  February 2022                      Steel – Launched   \n",
      "1081  Under construction    Easter 2022                                  Wood   \n",
      "1083  Under construction           2022                      Steel – Launched   \n",
      "1085  Under construction            NaN  Steel – 4th Dimension – Wing Coaster   \n",
      "1086  Under construction           2022                   Steel – Single-rail   \n",
      "\n",
      "                     Manufacturer Height restriction            Model  ...  \\\n",
      "0          LaMarcus Adna Thompson                NaN      Lift Packed  ...   \n",
      "1                    Lina Beecher                NaN              NaN  ...   \n",
      "2                             NaN                NaN              NaN  ...   \n",
      "3                  Edwin Prescott                NaN              NaN  ...   \n",
      "4                  Edwin Prescott                NaN              NaN  ...   \n",
      "...                           ...                ...              ...  ...   \n",
      "1079                Premier Rides                NaN       Sky Rocket  ...   \n",
      "1081           Martin & Vleminckx                NaN              NaN  ...   \n",
      "1083                      Intamin                NaN    Blitz Coaster  ...   \n",
      "1085    S&S – Sansei Technologies                NaN     4D Free Spin  ...   \n",
      "1086  Rocky Mountain Construction                NaN  Raptor – Custom  ...   \n",
      "\n",
      "          speed1    speed2 speed1_value speed1_unit speed_mph height_value  \\\n",
      "0         6 mph   9.7 km/h          6.0         mph       6.0         50.0   \n",
      "1            NaN       NaN          NaN         NaN       NaN          NaN   \n",
      "2            NaN       NaN          NaN         NaN       NaN          NaN   \n",
      "3            NaN       NaN          NaN         NaN       NaN          NaN   \n",
      "4            NaN       NaN          NaN         NaN       NaN          NaN   \n",
      "...          ...       ...          ...         ...       ...          ...   \n",
      "1079     52 mph    84 km/h         52.0         mph      52.0         93.0   \n",
      "1081  80.0 km/h   49.7 mph         80.0        km/h      49.7         32.0   \n",
      "1083     73 mph   117 km/h         73.0         mph      73.0        178.0   \n",
      "1085     34 mph    55 km/h         34.0         mph      34.0        112.0   \n",
      "1086     58 mph    93 km/h         58.0         mph      58.0        131.0   \n",
      "\n",
      "     height_unit height_ft Inversions_clean Gforce_clean  \n",
      "0             ft       NaN                0          2.9  \n",
      "1            NaN       NaN                1         12.0  \n",
      "2            NaN       NaN                0          NaN  \n",
      "3            NaN       NaN                1          NaN  \n",
      "4            NaN       NaN                1          NaN  \n",
      "...          ...       ...              ...          ...  \n",
      "1079          ft       NaN                0          NaN  \n",
      "1081           m     105.0                0          NaN  \n",
      "1083          ft       NaN                2          NaN  \n",
      "1085          ft       NaN                0          NaN  \n",
      "1086          ft       NaN                3          NaN  \n",
      "\n",
      "[990 rows x 56 columns]\n"
     ]
    }
   ],
   "source": [
    "# I first defined the path \n",
    "data_path = Path(\"data\")\n",
    "\n",
    "# Now in terms of the SQLite database file\n",
    "db_path = data_path / Path(\"coaster_database.db\")\n",
    "\n",
    "# Now defining the path to the file\n",
    "file_path = data_path / Path(\"coaster_db.csv\")\n",
    "\n",
    "# Loading the file into a DataFrame\n",
    "df = pd.read_csv(file_path, low_memory=False)\n",
    "\n",
    "# Now I want to identify the duplicated coasters\n",
    "duplicated_coasters = df[df.duplicated(subset='coaster_name', keep=False)]\n",
    "\n",
    "# And print the duplicated coasters\n",
    "print(\"Duplicated coasters:\")\n",
    "print(duplicated_coasters)\n",
    "\n",
    "# Based on the coaster name, remove the duplicated coasters\n",
    "df_cleaned = df.drop_duplicates(subset='coaster_name', keep='first')\n",
    "\n",
    "# Display the cleaned the data\n",
    "print(\"DataFrame after removing duplicates:\")\n",
    "print(df_cleaned)\n"
   ]
  },
  {
   "cell_type": "code",
   "execution_count": 242,
   "id": "1b605b6d",
   "metadata": {},
   "outputs": [
    {
     "data": {
      "text/plain": [
       "Index(['coaster_name', 'Length', 'Speed', 'Location', 'Status', 'Opening date',\n",
       "       'Type', 'Manufacturer', 'Height restriction', 'Model', 'Height',\n",
       "       'Inversions', 'Lift/launch system', 'Cost', 'Trains', 'Park section',\n",
       "       'Duration', 'Capacity', 'G-force', 'Designer', 'Max vertical angle',\n",
       "       'Drop', 'Soft opening date', 'Fast Lane available', 'Replaced',\n",
       "       'Track layout', 'Fastrack available', 'Soft opening date.1',\n",
       "       'Closing date', 'Opened', 'Replaced by', 'Website',\n",
       "       'Flash Pass Available', 'Must transfer from wheelchair', 'Theme',\n",
       "       'Single rider line available', 'Restraint Style',\n",
       "       'Flash Pass available', 'Acceleration', 'Restraints', 'Name',\n",
       "       'year_introduced', 'latitude', 'longitude', 'Type_Main',\n",
       "       'opening_date_clean', 'speed1', 'speed2', 'speed1_value', 'speed1_unit',\n",
       "       'speed_mph', 'height_value', 'height_unit', 'height_ft',\n",
       "       'Inversions_clean', 'Gforce_clean'],\n",
       "      dtype='object')"
      ]
     },
     "execution_count": 242,
     "metadata": {},
     "output_type": "execute_result"
    }
   ],
   "source": [
    "#I wanted to see the columns after cleaning them\n",
    "df_cleaned.columns"
   ]
  },
  {
   "cell_type": "code",
   "execution_count": 243,
   "id": "8d35f544",
   "metadata": {},
   "outputs": [
    {
     "data": {
      "text/plain": [
       "(990, 56)"
      ]
     },
     "execution_count": 243,
     "metadata": {},
     "output_type": "execute_result"
    }
   ],
   "source": [
    "#Verifying that the procedure worked\n",
    "df_cleaned.shape"
   ]
  },
  {
   "cell_type": "markdown",
   "id": "a0dae0d3",
   "metadata": {},
   "source": [
    "## 4.0\n",
    "\n",
    "Clean the dataset coaster dataset.\n",
    "\n",
    "- Ensure all columns only have one unit\n",
    "- Ensure dates are as datetime\n",
    "- Ensure boolean information is stored as boolean\n",
    "- Only retain the following columns:\n",
    "    - coaster_name\n",
    "    - Length\n",
    "    - Speed\n",
    "    - Location\n",
    "    - Status\n",
    "    - Manufacturer\n",
    "    - Height\n",
    "    - Designer\n",
    "    - Track layout\n",
    "    - latitude\n",
    "    - longitude\n",
    "    - opening_date_clean\n",
    "    - speed_mph\n",
    "    - height_value\n",
    "- Ensure the column names are descriptive, contain no blank spaces and have the same capitalization"
   ]
  },
  {
   "cell_type": "code",
   "execution_count": 244,
   "id": "dd480ff4",
   "metadata": {},
   "outputs": [
    {
     "name": "stdout",
     "output_type": "stream",
     "text": [
      "Column Names in the DataFrame:\n",
      "Index(['coaster_name', 'Length', 'Speed', 'Location', 'Status', 'Opening date',\n",
      "       'Type', 'Manufacturer', 'Height restriction', 'Model', 'Height',\n",
      "       'Inversions', 'Lift/launch system', 'Cost', 'Trains', 'Park section',\n",
      "       'Duration', 'Capacity', 'G-force', 'Designer', 'Max vertical angle',\n",
      "       'Drop', 'Soft opening date', 'Fast Lane available', 'Replaced',\n",
      "       'Track layout', 'Fastrack available', 'Soft opening date.1',\n",
      "       'Closing date', 'Opened', 'Replaced by', 'Website',\n",
      "       'Flash Pass Available', 'Must transfer from wheelchair', 'Theme',\n",
      "       'Single rider line available', 'Restraint Style',\n",
      "       'Flash Pass available', 'Acceleration', 'Restraints', 'Name',\n",
      "       'year_introduced', 'latitude', 'longitude', 'Type_Main',\n",
      "       'opening_date_clean', 'speed1', 'speed2', 'speed1_value', 'speed1_unit',\n",
      "       'speed_mph', 'height_value', 'height_unit', 'height_ft',\n",
      "       'Inversions_clean', 'Gforce_clean'],\n",
      "      dtype='object')\n"
     ]
    }
   ],
   "source": [
    "#I wanted to first verify the column names\n",
    "print(\"Column Names in the DataFrame:\")\n",
    "print(df.columns)"
   ]
  },
  {
   "cell_type": "code",
   "execution_count": 245,
   "id": "16026baa",
   "metadata": {},
   "outputs": [
    {
     "name": "stdout",
     "output_type": "stream",
     "text": [
      "                             Coaster Name Length (meters)      Speed (km/h)  \\\n",
      "0                      Switchback Railway  600 ft (180 m)  6 mph (9.7 km/h)   \n",
      "1                       Flip Flap Railway             NaN               NaN   \n",
      "2  Switchback Railway (Euclid Beach Park)             NaN               NaN   \n",
      "3            Loop the Loop (Coney Island)             NaN               NaN   \n",
      "4            Loop the Loop (Young's Pier)             NaN               NaN   \n",
      "\n",
      "                         Location   Status            Manufacturer  \\\n",
      "0                    Coney Island  Removed  LaMarcus Adna Thompson   \n",
      "1                   Sea Lion Park  Removed            Lina Beecher   \n",
      "2  Cleveland, Ohio, United States   Closed                     NaN   \n",
      "3                           Other  Removed          Edwin Prescott   \n",
      "4                           Other  Removed          Edwin Prescott   \n",
      "\n",
      "  Height (meters)                Designer            Track Layout  Latitude  \\\n",
      "0    50 ft (15 m)  LaMarcus Adna Thompson  Gravity pulled coaster   40.5740   \n",
      "1             NaN            Lina Beecher                     NaN   40.5780   \n",
      "2             NaN                     NaN                     NaN   41.5800   \n",
      "3             NaN         Edward A. Green                     NaN   40.5745   \n",
      "4             NaN         Edward A. Green                     NaN   39.3538   \n",
      "\n",
      "   Longitude Opening Date  Speed (mph)  Height (feet)  \n",
      "0   -73.9780   1884-06-16          6.0           50.0  \n",
      "1   -73.9790   1895-01-01          NaN            NaN  \n",
      "2   -81.5700          NaT          NaN            NaN  \n",
      "3   -73.9780   1901-01-01          NaN            NaN  \n",
      "4   -74.4342   1901-01-01          NaN            NaN  \n"
     ]
    }
   ],
   "source": [
    "# I wanted to be sure which are the corrected columns to retain\n",
    "columns_to_retain = [\n",
    "    'coaster_name',\n",
    "    'Length',\n",
    "    'Speed',\n",
    "    'Location',\n",
    "    'Status',\n",
    "    'Manufacturer',\n",
    "    'Height',\n",
    "    'Designer',\n",
    "    'Track layout',\n",
    "    'latitude',\n",
    "    'longitude',\n",
    "    'opening_date_clean',\n",
    "    'speed_mph',\n",
    "    'height_value'\n",
    "]\n",
    "\n",
    "# Renaming the columns to have descriptive names \n",
    "column_mapping = {\n",
    "    'coaster_name': 'Coaster Name',\n",
    "    'Length': 'Length (meters)',\n",
    "    'Speed': 'Speed (km/h)',\n",
    "    'Location': 'Location',\n",
    "    'Status': 'Status',\n",
    "    'Manufacturer': 'Manufacturer',\n",
    "    'Height': 'Height (meters)',\n",
    "    'Designer': 'Designer',\n",
    "    'Track layout': 'Track Layout',\n",
    "    'latitude': 'Latitude',\n",
    "    'longitude': 'Longitude',\n",
    "    'opening_date_clean': 'Opening Date',\n",
    "    'speed_mph': 'Speed (mph)',\n",
    "    'height_value': 'Height (feet)'\n",
    "}\n",
    "\n",
    "# Apply column renaming\n",
    "df = df[columns_to_retain].rename(columns=column_mapping)\n",
    "\n",
    "# Convert 'Opening Date' column to datetime if not already\n",
    "df['Opening Date'] = pd.to_datetime(df['Opening Date'], errors='coerce')\n",
    "\n",
    "# Display the cleaned DataFrame\n",
    "print(df.head())\n",
    "\n",
    "# Export the cleaned DataFrame to a new CSV file if needed\n",
    "# df.to_csv(data_path / Path(\"coaster_cleaned.csv\"), index=False)\n"
   ]
  },
  {
   "cell_type": "markdown",
   "id": "a0e23187",
   "metadata": {},
   "source": [
    "## 4.1\n",
    "\n",
    "Add a column giving the average speed per height"
   ]
  },
  {
   "cell_type": "code",
   "execution_count": 246,
   "id": "07703d00",
   "metadata": {},
   "outputs": [
    {
     "name": "stdout",
     "output_type": "stream",
     "text": [
      "                             Coaster Name Length (meters)  Speed (km/h)  \\\n",
      "0                      Switchback Railway  600 ft (180 m)           NaN   \n",
      "1                       Flip Flap Railway             NaN           NaN   \n",
      "2  Switchback Railway (Euclid Beach Park)             NaN           NaN   \n",
      "3            Loop the Loop (Coney Island)             NaN           NaN   \n",
      "4            Loop the Loop (Young's Pier)             NaN           NaN   \n",
      "\n",
      "                         Location   Status            Manufacturer  \\\n",
      "0                    Coney Island  Removed  LaMarcus Adna Thompson   \n",
      "1                   Sea Lion Park  Removed            Lina Beecher   \n",
      "2  Cleveland, Ohio, United States   Closed                     NaN   \n",
      "3                           Other  Removed          Edwin Prescott   \n",
      "4                           Other  Removed          Edwin Prescott   \n",
      "\n",
      "   Height (meters)                Designer            Track Layout  Latitude  \\\n",
      "0              NaN  LaMarcus Adna Thompson  Gravity pulled coaster   40.5740   \n",
      "1              NaN            Lina Beecher                     NaN   40.5780   \n",
      "2              NaN                     NaN                     NaN   41.5800   \n",
      "3              NaN         Edward A. Green                     NaN   40.5745   \n",
      "4              NaN         Edward A. Green                     NaN   39.3538   \n",
      "\n",
      "   Longitude Opening Date  Speed (mph)  Height (feet)  \\\n",
      "0   -73.9780   1884-06-16          6.0           50.0   \n",
      "1   -73.9790   1895-01-01          NaN            NaN   \n",
      "2   -81.5700          NaT          NaN            NaN   \n",
      "3   -73.9780   1901-01-01          NaN            NaN   \n",
      "4   -74.4342   1901-01-01          NaN            NaN   \n",
      "\n",
      "   Average Speed per Height  \n",
      "0                       NaN  \n",
      "1                       NaN  \n",
      "2                       NaN  \n",
      "3                       NaN  \n",
      "4                       NaN  \n"
     ]
    }
   ],
   "source": [
    "# I converted 'Speed (km/h)' and 'Height (meters)' columns to numeric (float) types\n",
    "df['Speed (km/h)'] = pd.to_numeric(df['Speed (km/h)'], errors='coerce')\n",
    "df['Height (meters)'] = pd.to_numeric(df['Height (meters)'], errors='coerce')\n",
    "\n",
    "# I calculated the average speed per height and add it as a new column\n",
    "df['Average Speed per Height'] = df['Speed (km/h)'] / df['Height (meters)']\n",
    "\n",
    "# I wante the updated DataFrame to be displayed\n",
    "print(df.head())"
   ]
  },
  {
   "cell_type": "markdown",
   "id": "5861c9d8",
   "metadata": {},
   "source": [
    "## 4.2\n",
    "Find the total number of empty values"
   ]
  },
  {
   "cell_type": "code",
   "execution_count": 247,
   "id": "dc990552",
   "metadata": {},
   "outputs": [
    {
     "name": "stdout",
     "output_type": "stream",
     "text": [
      "Total number of empty values: 6000\n"
     ]
    }
   ],
   "source": [
    "# I want to know the count the total number of empty (NaN) values in the DataFrame\n",
    "total_empty_values = df.isnull().sum().sum()\n",
    "\n",
    "# I want to display the total number of empty values\n",
    "print(\"Total number of empty values:\", total_empty_values)\n"
   ]
  },
  {
   "cell_type": "markdown",
   "id": "a9d44990",
   "metadata": {},
   "source": [
    "## 4.3\n",
    "Find the duplicated coasters and remove them"
   ]
  },
  {
   "cell_type": "code",
   "execution_count": 248,
   "id": "d53812f4",
   "metadata": {},
   "outputs": [
    {
     "name": "stdout",
     "output_type": "stream",
     "text": [
      "Duplicated coasters:\n",
      "                            Coaster Name       Length (meters)  Speed (km/h)  \\\n",
      "14                           Derby Racer                   NaN           NaN   \n",
      "16                         Zippin Pippin      2,865 ft (873 m)           NaN   \n",
      "39                 Crystal Beach Cyclone      2,953 ft (900 m)           NaN   \n",
      "43                 Crystal Beach Cyclone      2,953 ft (900 m)           NaN   \n",
      "59           Blue Streak (Conneaut Lake)      2,900 ft (880 m)           NaN   \n",
      "...                                  ...                   ...           ...   \n",
      "1063                  Lil' Devil Coaster     262.5 ft (80.0 m)           NaN   \n",
      "1064  Little Dipper (Conneaut Lake Park)                   NaN           NaN   \n",
      "1080                          Iron Gwazi    4,075 ft (1,242 m)           NaN   \n",
      "1082             American Dreier Looping    3,444 ft (1,050 m)           NaN   \n",
      "1084           Tron Lightcycle Power Run  3,169.3 ft (966.0 m)           NaN   \n",
      "\n",
      "                       Location              Status  \\\n",
      "14                 Revere Beach             Removed   \n",
      "16                        Other                 NaN   \n",
      "39           Crystal Beach Park             Removed   \n",
      "43           Crystal Beach Park             Removed   \n",
      "59           Conneaut Lake Park              Closed   \n",
      "...                         ...                 ...   \n",
      "1063  Six Flags Great Adventure           Operating   \n",
      "1064         Conneaut Lake Park           Operating   \n",
      "1080    Busch Gardens Tampa Bay  Under construction   \n",
      "1082                      Other                 NaN   \n",
      "1084                      Other                 NaN   \n",
      "\n",
      "                     Manufacturer  Height (meters)                  Designer  \\\n",
      "14                 Fred W. Pearce              NaN                       NaN   \n",
      "16              The Gravity Group              NaN            John A. Miller   \n",
      "39             Traver Engineering              NaN           Harry G. Traver   \n",
      "43             Traver Engineering              NaN           Harry G. Traver   \n",
      "59                            NaN              NaN                 Ed Vettel   \n",
      "...                           ...              ...                       ...   \n",
      "1063                     Zamperla              NaN                       NaN   \n",
      "1064      Allan Herschell Company              NaN                       NaN   \n",
      "1080  Rocky Mountain Construction              NaN              Alan Schilke   \n",
      "1082            Anton Schwarzkopf              NaN            Werner Stengel   \n",
      "1084                       Vekoma              NaN  Walt Disney Imagineering   \n",
      "\n",
      "               Track Layout  Latitude  Longitude Opening Date  Speed (mph)  \\\n",
      "14             Figure Eight   42.4200   -70.9860   1911-01-01          NaN   \n",
      "16       Martin & Vleminckx       NaN        NaN          NaT         40.0   \n",
      "39                  Twister   42.8617   -79.0598   1926-01-01         60.0   \n",
      "43                  Twister   42.8617   -79.0598   1926-01-01         60.0   \n",
      "59                      NaN   41.6349   -80.3180   1938-05-23         50.0   \n",
      "...                     ...       ...        ...          ...          ...   \n",
      "1063  Single Helix (center)   40.1343   -74.4434   1999-01-01          NaN   \n",
      "1064                   Oval   41.6343   -80.3165   1950-01-01          NaN   \n",
      "1080                Twister   28.0339   -82.4231          NaT         76.0   \n",
      "1082                    NaN       NaN        NaN          NaT         53.0   \n",
      "1084                    NaN       NaN        NaN   2016-06-16         59.3   \n",
      "\n",
      "      Height (feet)  Average Speed per Height  \n",
      "14              NaN                       NaN  \n",
      "16             70.0                       NaN  \n",
      "39             96.0                       NaN  \n",
      "43             96.0                       NaN  \n",
      "59             77.0                       NaN  \n",
      "...             ...                       ...  \n",
      "1063           13.0                       NaN  \n",
      "1064            NaN                       NaN  \n",
      "1080          206.0                       NaN  \n",
      "1082          111.0                       NaN  \n",
      "1084           78.1                       NaN  \n",
      "\n",
      "[173 rows x 15 columns]\n",
      "DataFrame after removing duplicates:\n",
      "                                Coaster Name         Length (meters)  \\\n",
      "0                         Switchback Railway          600 ft (180 m)   \n",
      "1                          Flip Flap Railway                     NaN   \n",
      "2     Switchback Railway (Euclid Beach Park)                     NaN   \n",
      "3               Loop the Loop (Coney Island)                     NaN   \n",
      "4               Loop the Loop (Young's Pier)                     NaN   \n",
      "...                                      ...                     ...   \n",
      "1079            Ice Breaker (roller coaster)        1,900 ft (580 m)   \n",
      "1081                   Leviathan (Sea World)  1,000.0 m (3,280.8 ft)   \n",
      "1083               Pantheon (roller coaster)      3,328 ft (1,014 m)   \n",
      "1085                                 Tumbili          770 ft (230 m)   \n",
      "1086          Wonder Woman Flight of Courage      3,300 ft (1,000 m)   \n",
      "\n",
      "      Speed (km/h)                        Location              Status  \\\n",
      "0              NaN                    Coney Island             Removed   \n",
      "1              NaN                   Sea Lion Park             Removed   \n",
      "2              NaN  Cleveland, Ohio, United States              Closed   \n",
      "3              NaN                           Other             Removed   \n",
      "4              NaN                           Other             Removed   \n",
      "...            ...                             ...                 ...   \n",
      "1079           NaN                SeaWorld Orlando  Under construction   \n",
      "1081           NaN                       Sea World  Under construction   \n",
      "1083           NaN      Busch Gardens Williamsburg  Under construction   \n",
      "1085           NaN                  Kings Dominion  Under construction   \n",
      "1086           NaN        Six Flags Magic Mountain  Under construction   \n",
      "\n",
      "                     Manufacturer  Height (meters)                Designer  \\\n",
      "0          LaMarcus Adna Thompson              NaN  LaMarcus Adna Thompson   \n",
      "1                    Lina Beecher              NaN            Lina Beecher   \n",
      "2                             NaN              NaN                     NaN   \n",
      "3                  Edwin Prescott              NaN         Edward A. Green   \n",
      "4                  Edwin Prescott              NaN         Edward A. Green   \n",
      "...                           ...              ...                     ...   \n",
      "1079                Premier Rides              NaN                     NaN   \n",
      "1081           Martin & Vleminckx              NaN       The Gravity Group   \n",
      "1083                      Intamin              NaN                     NaN   \n",
      "1085    S&S – Sansei Technologies              NaN                     NaN   \n",
      "1086  Rocky Mountain Construction              NaN                     NaN   \n",
      "\n",
      "                Track Layout  Latitude  Longitude Opening Date  Speed (mph)  \\\n",
      "0     Gravity pulled coaster   40.5740   -73.9780   1884-06-16          6.0   \n",
      "1                        NaN   40.5780   -73.9790   1895-01-01          NaN   \n",
      "2                        NaN   41.5800   -81.5700          NaT          NaN   \n",
      "3                        NaN   40.5745   -73.9780   1901-01-01          NaN   \n",
      "4                        NaN   39.3538   -74.4342   1901-01-01          NaN   \n",
      "...                      ...       ...        ...          ...          ...   \n",
      "1079                     NaN   28.4088   -81.4633   2022-02-01         52.0   \n",
      "1081                 Twister  -27.9574   153.4263   2022-01-01         49.7   \n",
      "1083                     NaN   37.2339   -76.6426   2022-01-01         73.0   \n",
      "1085                     NaN       NaN        NaN          NaT         34.0   \n",
      "1086                     NaN       NaN        NaN   2022-01-01         58.0   \n",
      "\n",
      "      Height (feet)  Average Speed per Height  \n",
      "0              50.0                       NaN  \n",
      "1               NaN                       NaN  \n",
      "2               NaN                       NaN  \n",
      "3               NaN                       NaN  \n",
      "4               NaN                       NaN  \n",
      "...             ...                       ...  \n",
      "1079           93.0                       NaN  \n",
      "1081           32.0                       NaN  \n",
      "1083          178.0                       NaN  \n",
      "1085          112.0                       NaN  \n",
      "1086          131.0                       NaN  \n",
      "\n",
      "[990 rows x 15 columns]\n"
     ]
    }
   ],
   "source": [
    "# I want to find duplicated coasters based on the 'Coaster Name' column\n",
    "duplicated_coasters = df[df.duplicated(subset='Coaster Name', keep=False)]\n",
    "\n",
    "# I want to display the duplicated coasters\n",
    "print(\"Duplicated coasters:\")\n",
    "print(duplicated_coasters)\n",
    "\n",
    "# Removing duplicated rows based on 'Coaster Name'\n",
    "df_cleaned = df.drop_duplicates(subset='Coaster Name', keep='first')\n",
    "\n",
    "# Displaying the cleaned DataFrame\n",
    "print(\"DataFrame after removing duplicates:\")\n",
    "print(df_cleaned)\n"
   ]
  },
  {
   "cell_type": "markdown",
   "id": "f186fccb",
   "metadata": {},
   "source": [
    "## 4.4\n",
    "What is the average coaster length per decade?"
   ]
  },
  {
   "cell_type": "code",
   "execution_count": 249,
   "id": "a8cfc761",
   "metadata": {},
   "outputs": [
    {
     "name": "stdout",
     "output_type": "stream",
     "text": [
      "Index(['Coaster Name', 'Length (meters)', 'Speed (km/h)', 'Location', 'Status',\n",
      "       'Manufacturer', 'Height (meters)', 'Designer', 'Track Layout',\n",
      "       'Latitude', 'Longitude', 'Opening Date', 'Speed (mph)', 'Height (feet)',\n",
      "       'Average Speed per Height'],\n",
      "      dtype='object')\n"
     ]
    }
   ],
   "source": [
    "#Know which are the columns\n",
    "print(df.columns)"
   ]
  },
  {
   "cell_type": "code",
   "execution_count": 250,
   "id": "4520d63a",
   "metadata": {},
   "outputs": [
    {
     "name": "stdout",
     "output_type": "stream",
     "text": [
      "Average Coaster Length Per Decade:\n",
      "Decade\n",
      "1880.0           NaN\n",
      "1890.0           NaN\n",
      "1900.0           NaN\n",
      "1910.0           NaN\n",
      "1920.0    312.300000\n",
      "1930.0    416.350000\n",
      "1940.0           NaN\n",
      "1950.0    620.900000\n",
      "1960.0           NaN\n",
      "1970.0    545.544444\n",
      "1980.0    590.399444\n",
      "1990.0    445.977000\n",
      "2000.0    419.443953\n",
      "2010.0    677.691429\n",
      "2020.0    430.060000\n",
      "Name: Length (meters), dtype: float64\n"
     ]
    }
   ],
   "source": [
    "# If 'Opening Date' is not in datetime format, convert it\n",
    "df['Opening Date'] = pd.to_datetime(df['Opening Date'], errors='coerce')\n",
    "\n",
    "# Cleaning the 'Length (meters)' column by extracting the numeric values\n",
    "df['Length (meters)'] = df['Length (meters)'].str.extract('(\\d+\\.\\d+)').astype(float)\n",
    "\n",
    "# Extracting the decade from 'Opening Date' and create a new column 'Decade'\n",
    "df['Decade'] = (df['Opening Date'].dt.year // 10) * 10\n",
    "\n",
    "# I wanted to group the DataFrame by 'Decade' and calculate the average coaster length for each decade\n",
    "average_length_per_decade = df.groupby('Decade')['Length (meters)'].mean()\n",
    "\n",
    "# Displaying the average coaster length per decade\n",
    "print(\"Average Coaster Length Per Decade:\")\n",
    "print(average_length_per_decade)\n"
   ]
  },
  {
   "cell_type": "markdown",
   "id": "e0a39c2e",
   "metadata": {},
   "source": [
    "## 4.5\n",
    "Find the median speed per Designer"
   ]
  },
  {
   "cell_type": "code",
   "execution_count": 251,
   "id": "9db6837a",
   "metadata": {},
   "outputs": [
    {
     "name": "stdout",
     "output_type": "stream",
     "text": [
      "Median Speed Per Designer:\n",
      "Designer\n",
      "Al CollinsJeff Gramke                             NaN\n",
      "Alan Schilke                                      NaN\n",
      "Alan SchilkeRenato Manzoni                        NaN\n",
      "Alison Brittle, Eden Carpenter, and Gary Norton   NaN\n",
      "Andy Vettel (1968)John A. Miller (1924)           NaN\n",
      "                                                   ..\n",
      "Werner Stengel[3]                                 NaN\n",
      "William Cobb                                      NaN\n",
      "William Cobb & Associates                         NaN\n",
      "William CobbWerner Stengel                        NaN\n",
      "Zierer                                            NaN\n",
      "Name: Speed (km/h), Length: 153, dtype: float64\n"
     ]
    }
   ],
   "source": [
    "# Grouping the DataFrame by 'Designer' and calculate the median speed for each designer\n",
    "median_speed_per_designer = df.groupby('Designer')['Speed (km/h)'].median()\n",
    "\n",
    "# Displaying the median speed per designer\n",
    "print(\"Median Speed Per Designer:\")\n",
    "print(median_speed_per_designer)"
   ]
  },
  {
   "cell_type": "markdown",
   "id": "927077ba",
   "metadata": {},
   "source": [
    "## 4.6\n",
    "What is the active coaster length per location? Sort high-to-low."
   ]
  },
  {
   "cell_type": "code",
   "execution_count": 252,
   "id": "d465a2fa",
   "metadata": {},
   "outputs": [
    {
     "name": "stdout",
     "output_type": "stream",
     "text": [
      "Active Coaster Length Per Location (High to Low):\n",
      "Location\n",
      "Walibi Holland            7119.40\n",
      "Other                     6980.57\n",
      "Canada's Wonderland       4085.90\n",
      "Gardaland                 2059.20\n",
      "Alton Towers              1916.10\n",
      "                           ...   \n",
      "Hersheypark                  0.00\n",
      "Himeji Central Park          0.00\n",
      "Hopi Hari                    0.00\n",
      "Idlewild and Soak Zone       0.00\n",
      "Đại Nam Văn Hiến             0.00\n",
      "Name: Length (meters), Length: 222, dtype: float64\n"
     ]
    }
   ],
   "source": [
    "# Filtering the DataFrame to keep only active coasters\n",
    "active_coasters = df[df['Status'] == 'Operating']\n",
    "\n",
    "# Grouping the active coasters by 'Location' and calculate the sum of 'Length (meters)' for each location\n",
    "coaster_length_per_location = active_coasters.groupby('Location')['Length (meters)'].sum()\n",
    "\n",
    "# Sorting the results in high-to-low order\n",
    "coaster_length_per_location = coaster_length_per_location.sort_values(ascending=False)\n",
    "\n",
    "# Displaying the active coaster length per location (sorted)\n",
    "print(\"Active Coaster Length Per Location (High to Low):\")\n",
    "print(coaster_length_per_location)"
   ]
  },
  {
   "cell_type": "markdown",
   "id": "59bf72aa",
   "metadata": {},
   "source": [
    "## 4.7\n",
    "Which manufaturer had the heighest active amount of coaster length each decade?"
   ]
  },
  {
   "cell_type": "code",
   "execution_count": 253,
   "id": "a7708c10",
   "metadata": {},
   "outputs": [
    {
     "name": "stdout",
     "output_type": "stream",
     "text": [
      "Manufacturer with the Highest Active Coaster Length Each Decade:\n",
      "            Decade                    Manufacturer  Length (meters)\n",
      "Decade                                                             \n",
      "1900.0 0    1900.0    Federal Construction Company             0.00\n",
      "1910.0 1    1910.0               LaMarcus Thompson             0.00\n",
      "1920.0 2    1920.0                    Arthur Looff             0.00\n",
      "       3    1920.0                    Charlie Mach             0.00\n",
      "       4    1920.0    Frank Prior, Fredrick Church             0.00\n",
      "       5    1920.0                  Harry C. Baker             0.00\n",
      "       6    1920.0  Philadelphia Toboggan Coasters             0.00\n",
      "       7    1920.0               William Strickler             0.00\n",
      "1930.0 8    1930.0  Philadelphia Toboggan Coasters           609.60\n",
      "1940.0 9    1940.0              Joseph E. Drambour             0.00\n",
      "       10   1940.0  Philadelphia Toboggan Coasters             0.00\n",
      "1950.0 12   1950.0               Arrow Development           620.90\n",
      "1960.0 16   1960.0               Arrow Development             0.00\n",
      "       17   1960.0                  Arrow Dynamics             0.00\n",
      "       18   1960.0  Philadelphia Toboggan Coasters             0.00\n",
      "1970.0 20   1970.0               Arrow Development           974.10\n",
      "1980.0 31   1980.0               Anton Schwarzkopf          2384.70\n",
      "1990.0 74   1990.0                          Vekoma          4494.81\n",
      "2000.0 98   2000.0                          Vekoma          3817.95\n",
      "2010.0 117  2010.0     Rocky Mountain Construction          7119.40\n",
      "2020.0 129  2020.0                         Intamin          1248.00\n"
     ]
    }
   ],
   "source": [
    "# Filtering the DataFrame to keep only active coasters\n",
    "active_coasters = df[df['Status'] == 'Operating'].copy()  # Create a copy to avoid the warning\n",
    "\n",
    "# Creating a new column 'Decade' based on the 'Opening Date' using .loc\n",
    "active_coasters.loc[:, 'Decade'] = (active_coasters['Opening Date'].dt.year // 10) * 10\n",
    "\n",
    "# Grouping the DataFrame by 'Decade' and 'Manufacturer' and calculate the sum of 'Length (meters)'\n",
    "manufacturer_coaster_length_per_decade = active_coasters.groupby(['Decade', 'Manufacturer'])['Length (meters)'].sum().reset_index()\n",
    "\n",
    "# Finding the manufacturer with the highest total length for each decade\n",
    "manufacturer_with_highest_length_per_decade = manufacturer_coaster_length_per_decade.groupby('Decade').apply(lambda x: x[x['Length (meters)'] == x['Length (meters)'].max()])\n",
    "\n",
    "# Displaying the manufacturer with the highest total length for each decade\n",
    "print(\"Manufacturer with the Highest Active Coaster Length Each Decade:\")\n",
    "print(manufacturer_with_highest_length_per_decade[['Decade', 'Manufacturer', 'Length (meters)']])"
   ]
  },
  {
   "cell_type": "markdown",
   "id": "140bd71a",
   "metadata": {},
   "source": [
    "## 4.8\n",
    "What is the favorite track layout and how does it change over time? Show in a plot. Which layout is most expensive?"
   ]
  },
  {
   "cell_type": "code",
   "execution_count": 254,
   "id": "00bcac2c",
   "metadata": {},
   "outputs": [
    {
     "data": {
      "image/png": "[encoded data removed]",
      "text/plain": [
       "<Figure size 1200x600 with 1 Axes>"
      ]
     },
     "metadata": {},
     "output_type": "display_data"
    }
   ],
   "source": [
    "# Grouping the DataFrame by 'Track Layout' and 'Decade', then count the coasters\n",
    "track_layout_counts = df.groupby(['Decade', 'Track Layout'])['Coaster Name'].count().reset_index()\n",
    "\n",
    "# Finding the most common track layout for each decade\n",
    "favorite_track_layout_per_decade = track_layout_counts.loc[track_layout_counts.groupby('Decade')['Coaster Name'].idxmax()]\n",
    "\n",
    "# Plotting the changes in the favorite track layout over time\n",
    "plt.figure(figsize=(12, 6))\n",
    "sns.set(style=\"whitegrid\")\n",
    "sns.lineplot(x='Decade', y='Coaster Name', hue='Track Layout', data=favorite_track_layout_per_decade)\n",
    "plt.title(\"Favorite Track Layout Over Time\")\n",
    "plt.xlabel(\"Decade\")\n",
    "plt.ylabel(\"Count\")\n",
    "plt.xticks(rotation=45)\n",
    "plt.legend(title='Track Layout', bbox_to_anchor=(1.05, 1), loc='upper left')\n",
    "plt.show()\n",
    "\n",
    "#It is important to mention that the most expensive layout was not possible to visualize due to previous cleaning procedures that changed data"
   ]
  },
  {
   "cell_type": "markdown",
   "id": "c9daea43",
   "metadata": {},
   "source": [
    "## 5.0\n",
    "Using the earthquake data: Which coaster was closest to an earthquake that happened in the last 90 days?\n",
    "\n",
    "- load the earthquake data\n",
    "- calculate the distances as:\n",
    "    - distance = square root((Latitude1 - Latitude2) **2 + (Longitude1 - Longitude2) **2)\n",
    "- Print the coaster information and how far away it was from the closes earthquake"
   ]
  },
  {
   "cell_type": "code",
   "execution_count": 255,
   "id": "c173b173",
   "metadata": {},
   "outputs": [],
   "source": [
    "# Defining the relative path to the earthquake data file\n",
    "earthquake_path = Path(\"data\") / Path(\"earthquake.csv\")\n",
    "\n",
    "# Load the earthquake data into a DataFrame\n",
    "earthquake_df = pd.read_csv(earthquake_path)"
   ]
  },
  {
   "cell_type": "code",
   "execution_count": 256,
   "id": "83269207",
   "metadata": {},
   "outputs": [
    {
     "data": {
      "text/plain": [
       "(9332, 6)"
      ]
     },
     "execution_count": 256,
     "metadata": {},
     "output_type": "execute_result"
    }
   ],
   "source": [
    "#Verify information\n",
    "earthquake_df.shape"
   ]
  },
  {
   "cell_type": "code",
   "execution_count": 257,
   "id": "93eb7c4c",
   "metadata": {},
   "outputs": [
    {
     "data": {
      "text/plain": [
       "<bound method NDFrame.head of        mag magType           time                             place  tsunami  \\\n",
       "0     1.35      ml  1539475168010             9km NE of Aguanga, CA        0   \n",
       "1     1.29      ml  1539475129610             9km NE of Aguanga, CA        0   \n",
       "2     3.42      ml  1539475062610             8km NE of Aguanga, CA        0   \n",
       "3     0.44      ml  1539474978070             9km NE of Aguanga, CA        0   \n",
       "4     2.16      md  1539474716050             10km NW of Avenal, CA        0   \n",
       "...    ...     ...            ...                               ...      ...   \n",
       "9327  0.62      md  1537230228060      9km ENE of Mammoth Lakes, CA        0   \n",
       "9328  1.00      ml  1537230135130               3km W of Julian, CA        0   \n",
       "9329  2.40      md  1537229908180  35km NNE of Hatillo, Puerto Rico        0   \n",
       "9330  1.10      ml  1537229545350             9km NE of Aguanga, CA        0   \n",
       "9331  0.66      ml  1537228864470             9km NE of Aguanga, CA        0   \n",
       "\n",
       "     parsed_place  \n",
       "0      California  \n",
       "1      California  \n",
       "2      California  \n",
       "3      California  \n",
       "4      California  \n",
       "...           ...  \n",
       "9327   California  \n",
       "9328   California  \n",
       "9329  Puerto Rico  \n",
       "9330   California  \n",
       "9331   California  \n",
       "\n",
       "[9332 rows x 6 columns]>"
      ]
     },
     "execution_count": 257,
     "metadata": {},
     "output_type": "execute_result"
    }
   ],
   "source": [
    "#Again verify the dataframe\n",
    "earthquake_df.head"
   ]
  },
  {
   "cell_type": "code",
   "execution_count": 258,
   "id": "41b1583c",
   "metadata": {},
   "outputs": [
    {
     "name": "stdout",
     "output_type": "stream",
     "text": [
      "Index(['mag', 'magType', 'time', 'place', 'tsunami', 'parsed_place'], dtype='object')\n"
     ]
    }
   ],
   "source": [
    "# List the column names in the earthquake data\n",
    "print(earthquake_df.columns)"
   ]
  },
  {
   "cell_type": "code",
   "execution_count": 259,
   "id": "8a6be387",
   "metadata": {},
   "outputs": [
    {
     "name": "stdout",
     "output_type": "stream",
     "text": [
      "Closest Coaster to Recent Earthquake:\n",
      "Coaster Name: None\n",
      "Closest Earthquake Location: None\n",
      "Distance (in kilometers): inf\n"
     ]
    }
   ],
   "source": [
    "# Define the relative path to the coaster data file\n",
    "coaster_path = Path(\"data\") / Path(\"coaster_db.csv\")\n",
    "\n",
    "# Load the coaster data into a DataFrame\n",
    "coaster_df = pd.read_csv(coaster_path)\n",
    "\n",
    "# Define the relative path to the earthquake data file\n",
    "earthquake_path = Path(\"data\") / Path(\"earthquake.csv\")\n",
    "\n",
    "# Load the earthquake data into a DataFrame\n",
    "earthquake_df = pd.read_csv(earthquake_path)\n",
    "\n",
    "# Convert the 'time' column in earthquake_df to datetime\n",
    "earthquake_df['time'] = pd.to_datetime(earthquake_df['time'])\n",
    "\n",
    "# Filter earthquakes that happened in the last 90 days\n",
    "last_90_days = pd.Timestamp.now() - pd.DateOffset(days=90)\n",
    "recent_earthquakes = earthquake_df[earthquake_df['time'] >= last_90_days]\n",
    "\n",
    "# Function to calculate the distance between two coordinates\n",
    "def calculate_distance(coaster_lat, coaster_lon, earthquake_lat, earthquake_lon):\n",
    "    coaster_location = (coaster_lat, coaster_lon)\n",
    "    earthquake_location = (earthquake_lat, earthquake_lon)\n",
    "    distance = geodesic(coaster_location, earthquake_location).kilometers\n",
    "    return distance\n",
    "\n",
    "# Initialize variables to keep track of the closest earthquake\n",
    "closest_coaster = None\n",
    "closest_distance = np.inf\n",
    "closest_earthquake = None\n",
    "\n",
    "# Iterate through each earthquake and find the closest coaster\n",
    "for earthquake_index, earthquake_row in recent_earthquakes.iterrows():\n",
    "    earthquake_lat = earthquake_row['latitude']\n",
    "    earthquake_lon = earthquake_row['longitude']\n",
    "    \n",
    "    for coaster_index, coaster_row in coaster_df.iterrows():\n",
    "        coaster_lat = coaster_row['Latitude']\n",
    "        coaster_lon = coaster_row['Longitude']\n",
    "        \n",
    "        distance = calculate_distance(coaster_lat, coaster_lon, earthquake_lat, earthquake_lon)\n",
    "        \n",
    "        if distance < closest_distance:\n",
    "            closest_distance = distance\n",
    "            closest_coaster = coaster_row['Name']\n",
    "            closest_earthquake = earthquake_row['place']\n",
    "\n",
    "# Print the closest coaster information and distance\n",
    "print(\"Closest Coaster to Recent Earthquake:\")\n",
    "print(\"Coaster Name:\", closest_coaster)\n",
    "print(\"Closest Earthquake Location:\", closest_earthquake)\n",
    "print(\"Distance (in kilometers):\", closest_distance)\n"
   ]
  }
 ],
 "metadata": {
  "kernelspec": {
   "display_name": "Python 3 (ipykernel)",
   "language": "python",
   "name": "python3"
  },
  "language_info": {
   "codemirror_mode": {
    "name": "ipython",
    "version": 3
   },
   "file_extension": ".py",
   "mimetype": "text/x-python",
   "name": "python",
   "nbconvert_exporter": "python",
   "pygments_lexer": "ipython3",
   "version": "3.11.5"
  }
 },
 "nbformat": 4,
 "nbformat_minor": 5
}
